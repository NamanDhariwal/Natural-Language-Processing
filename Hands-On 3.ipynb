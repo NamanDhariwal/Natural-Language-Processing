{
 "cells": [
  {
   "cell_type": "code",
   "execution_count": 1,
   "id": "7ee90444",
   "metadata": {},
   "outputs": [],
   "source": [
    "import nltk"
   ]
  },
  {
   "cell_type": "code",
   "execution_count": 2,
   "id": "0235f074",
   "metadata": {},
   "outputs": [],
   "source": [
    "# Scraping the web for text data\n",
    "# source: Project Gutenburg\n",
    "# Book of choice: Hamlet, William Shakespeare\n",
    "\n",
    "from urllib import request"
   ]
  },
  {
   "cell_type": "code",
   "execution_count": 3,
   "id": "a881d4df",
   "metadata": {},
   "outputs": [],
   "source": [
    "url = \"https://www.gutenberg.org/cache/epub/2265/pg2265.txt\""
   ]
  },
  {
   "cell_type": "code",
   "execution_count": 6,
   "id": "63b636ce",
   "metadata": {},
   "outputs": [],
   "source": [
    "response = request.urlopen(url)"
   ]
  },
  {
   "cell_type": "code",
   "execution_count": 7,
   "id": "1efa26ac",
   "metadata": {},
   "outputs": [],
   "source": [
    "raw = response.read().decode('utf-8')    # decode(), used to decode to UTF-8 from the encoding used on the website"
   ]
  },
  {
   "cell_type": "code",
   "execution_count": 14,
   "id": "1e829455",
   "metadata": {},
   "outputs": [
    {
     "name": "stderr",
     "output_type": "stream",
     "text": [
      "[nltk_data] Downloading package punkt to\n",
      "[nltk_data]     C:\\Users\\NAMAN\\AppData\\Roaming\\nltk_data...\n",
      "[nltk_data]   Package punkt is already up-to-date!\n"
     ]
    },
    {
     "data": {
      "text/plain": [
       "True"
      ]
     },
     "execution_count": 14,
     "metadata": {},
     "output_type": "execute_result"
    }
   ],
   "source": [
    "nltk.download('punkt')"
   ]
  },
  {
   "cell_type": "code",
   "execution_count": 17,
   "id": "cbd5c6f6",
   "metadata": {},
   "outputs": [],
   "source": [
    "import nltk\n",
    "from nltk.tokenize import word_tokenize\n",
    "tokens = word_tokenize(raw)"
   ]
  },
  {
   "cell_type": "code",
   "execution_count": 20,
   "id": "95361747",
   "metadata": {},
   "outputs": [
    {
     "name": "stdout",
     "output_type": "stream",
     "text": [
      "['\\ufeff', '*', '*', '*', 'The', 'Project', 'Gutenberg', \"'s\", 'Etext', 'of', 'Shakespeare', \"'s\", 'First', 'Folio', '*', '*', '*', '*', '*', '*', '*', '*', '*', '*', '*', '*', '*', '*', '*', '*', '*', '*', '*', '*', '*', '*', '*', '*', 'The', 'Tragedie', 'of', 'Hamlet', '*', '*', '*', '*', '*', '*', '*', '*', '*', '*', '*', '*', '*', '*', '*', '*', '*', '*', '*', '*', '*', '*', '*', '*', '*', '*', '*', '*', '*', '*', '*', '*', '*', '*', '*', '*', '*', '*', '*', '*', '*', '*', '*', '*', '*', '*', '*', '*', '*', '*', '*', '*', '*', '*', '*', '*', '*', '*', '*', '*', '*', '*', '*', '*', '*', '*', '*', '*', '*', '*', '*', '*', '*', '*', '*', '*', '*', '*', '*', '*', '*', '*', '*', '*', '*', '*', '*', '*', 'THIS', 'EBOOK', 'WAS', 'ONE', 'OF', 'PROJECT', 'GUTENBERG', \"'S\", 'EARLY', 'FILES', 'PRODUCED', 'AT', 'A', 'TIME', 'WHEN', 'PROOFING', 'METHODS', 'AND', 'TOOLS', 'WERE', 'NOT', 'WELL', 'DEVELOPED', '.', 'THERE', 'IS', 'AN', 'IMPROVED', 'EDITION', 'OF', 'THIS', 'TITLE', 'WHICH', 'MAY', 'BE', 'VIEWED', 'AS', 'EBOOK', '(', '#', '100', ')', 'at', 'https', ':', '//www.gutenberg.org/ebooks/100', '*', '*', '*', '*', '*', '*', '*', '*', '*', '*', '*', '*', '*', '*', '*', '*', '*', '*', '*', '*', '*', '*', '*', '*']\n"
     ]
    }
   ],
   "source": [
    "print(tokens[:200])"
   ]
  },
  {
   "cell_type": "code",
   "execution_count": 22,
   "id": "ccd21771",
   "metadata": {},
   "outputs": [],
   "source": [
    "# Now, think of a application of this tokenization, i.e. how this can be put to work, how all novels can be used to create an \n",
    "# impact on the world!"
   ]
  },
  {
   "cell_type": "code",
   "execution_count": 23,
   "id": "88f1de2f",
   "metadata": {},
   "outputs": [],
   "source": [
    "from nltk.stem import PorterStemmer"
   ]
  },
  {
   "cell_type": "code",
   "execution_count": 29,
   "id": "4ab58aa3",
   "metadata": {},
   "outputs": [
    {
     "data": {
      "text/plain": [
       "'happi'"
      ]
     },
     "execution_count": 29,
     "metadata": {},
     "output_type": "execute_result"
    }
   ],
   "source": [
    "porter = PorterStemmer()\n",
    "porter.stem('happiness')"
   ]
  },
  {
   "cell_type": "code",
   "execution_count": 27,
   "id": "73f27602",
   "metadata": {},
   "outputs": [],
   "source": [
    "from nltk.stem import LancasterStemmer"
   ]
  },
  {
   "cell_type": "code",
   "execution_count": 28,
   "id": "63342af9",
   "metadata": {},
   "outputs": [
    {
     "data": {
      "text/plain": [
       "'happy'"
      ]
     },
     "execution_count": 28,
     "metadata": {},
     "output_type": "execute_result"
    }
   ],
   "source": [
    "Lanc = LancasterStemmer()\n",
    "Lanc.stem('happiness')"
   ]
  },
  {
   "cell_type": "code",
   "execution_count": 34,
   "id": "3108f046",
   "metadata": {},
   "outputs": [
    {
     "data": {
      "text/plain": [
       "'play'"
      ]
     },
     "execution_count": 34,
     "metadata": {},
     "output_type": "execute_result"
    }
   ],
   "source": [
    "from nltk.stem import RegexpStemmer\n",
    "reg = RegexpStemmer('ing')\n",
    "reg.stem('playing')"
   ]
  },
  {
   "cell_type": "code",
   "execution_count": 33,
   "id": "6fe1b7f0",
   "metadata": {},
   "outputs": [
    {
     "data": {
      "text/plain": [
       "'s'"
      ]
     },
     "execution_count": 33,
     "metadata": {},
     "output_type": "execute_result"
    }
   ],
   "source": [
    "reg.stem('sing')"
   ]
  },
  {
   "cell_type": "code",
   "execution_count": 37,
   "id": "14d74067",
   "metadata": {},
   "outputs": [
    {
     "data": {
      "text/plain": [
       "'detest'"
      ]
     },
     "execution_count": 37,
     "metadata": {},
     "output_type": "execute_result"
    }
   ],
   "source": [
    "from nltk.stem import SnowballStemmer\n",
    "snow = SnowballStemmer('french')\n",
    "snow.stem('deteste')"
   ]
  },
  {
   "cell_type": "code",
   "execution_count": 49,
   "id": "35a8c07c",
   "metadata": {},
   "outputs": [],
   "source": [
    "porter = PorterStemmer()\n",
    "text = \"Why is this Small Print! statement here?  You know: lawyers. They tell us you might sue us if there is something wrong with your copy of this etext, even if you got it for free from someone other than us, and even if what's wrong is not our fault.\"  \n",
    "text = [porter.stem(token) for token in text.split(\" \")]"
   ]
  },
  {
   "cell_type": "code",
   "execution_count": 50,
   "id": "38d99128",
   "metadata": {},
   "outputs": [
    {
     "name": "stdout",
     "output_type": "stream",
     "text": [
      "whi is thi small print! statement here?  you know: lawyers. they tell us you might sue us if there is someth wrong with your copi of thi etext, even if you got it for free from someon other than us, and even if what' wrong is not our fault.\n"
     ]
    }
   ],
   "source": [
    "print(\" \".join(text))"
   ]
  },
  {
   "cell_type": "code",
   "execution_count": null,
   "id": "51a2e82f",
   "metadata": {},
   "outputs": [],
   "source": []
  }
 ],
 "metadata": {
  "kernelspec": {
   "display_name": "Python 3 (ipykernel)",
   "language": "python",
   "name": "python3"
  },
  "language_info": {
   "codemirror_mode": {
    "name": "ipython",
    "version": 3
   },
   "file_extension": ".py",
   "mimetype": "text/x-python",
   "name": "python",
   "nbconvert_exporter": "python",
   "pygments_lexer": "ipython3",
   "version": "3.10.8"
  }
 },
 "nbformat": 4,
 "nbformat_minor": 5
}
